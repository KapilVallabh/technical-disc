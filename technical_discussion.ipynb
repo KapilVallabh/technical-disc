{
  "nbformat": 4,
  "nbformat_minor": 0,
  "metadata": {
    "colab": {
      "provenance": [],
      "collapsed_sections": [
        "q4J1nAowjlKv",
        "SMB1omwLjtox"
      ],
      "authorship_tag": "ABX9TyPmJsQdSVWJl8cr/r7YUVd3",
      "include_colab_link": true
    },
    "kernelspec": {
      "name": "python3",
      "display_name": "Python 3"
    },
    "language_info": {
      "name": "python"
    }
  },
  "cells": [
    {
      "cell_type": "markdown",
      "metadata": {
        "id": "view-in-github",
        "colab_type": "text"
      },
      "source": [
        "<a href=\"https://colab.research.google.com/github/KapilVallabh/technical-disc/blob/main/technical_discussion.ipynb\" target=\"_parent\"><img src=\"https://colab.research.google.com/assets/colab-badge.svg\" alt=\"Open In Colab\"/></a>"
      ]
    },
    {
      "cell_type": "markdown",
      "source": [
        "# Ingest"
      ],
      "metadata": {
        "id": "q4J1nAowjlKv"
      }
    },
    {
      "cell_type": "code",
      "execution_count": 5,
      "metadata": {
        "colab": {
          "base_uri": "https://localhost:8080/",
          "height": 35
        },
        "id": "bl0iUcJRiWau",
        "outputId": "dfd33c6a-3cdb-4123-fe6d-55b0e069ad72"
      },
      "outputs": [
        {
          "output_type": "execute_result",
          "data": {
            "text/plain": [
              "'hi'"
            ],
            "application/vnd.google.colaboratory.intrinsic+json": {
              "type": "string"
            }
          },
          "metadata": {},
          "execution_count": 5
        }
      ],
      "source": [
        "def hello():\n",
        "  return 'hi'\n",
        "\n",
        "hello()\n"
      ]
    },
    {
      "cell_type": "markdown",
      "source": [
        "# EDA"
      ],
      "metadata": {
        "id": "wGv0tct6jjB5"
      }
    },
    {
      "cell_type": "markdown",
      "source": [
        "# Modeling"
      ],
      "metadata": {
        "id": "SMB1omwLjtox"
      }
    },
    {
      "cell_type": "markdown",
      "source": [],
      "metadata": {
        "id": "z_0wrWUMjzcZ"
      }
    },
    {
      "cell_type": "markdown",
      "source": [
        "Hello"
      ],
      "metadata": {
        "id": "hrqS5e7vjZzW"
      }
    },
    {
      "cell_type": "markdown",
      "source": [
        "# Conclusion"
      ],
      "metadata": {
        "id": "AlCPT3J2j3KB"
      }
    },
    {
      "cell_type": "markdown",
      "source": [
        "This is the conclusion"
      ],
      "metadata": {
        "id": "dJ5YL09Nj6-i"
      }
    }
  ]
}